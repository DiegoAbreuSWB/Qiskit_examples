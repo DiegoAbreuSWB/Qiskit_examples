{
 "cells": [
  {
   "cell_type": "code",
   "execution_count": 7,
   "id": "6bd51b4f",
   "metadata": {},
   "outputs": [],
   "source": [
    "from qiskit import QuantumCircuit, Aer, transpile, assemble\n",
    "from qiskit.visualization import plot_histogram, plot_bloch_multivector\n",
    "from numpy.random import randint\n",
    "import numpy as np"
   ]
  },
  {
   "cell_type": "raw",
   "id": "5e7b1e6c",
   "metadata": {},
   "source": [
    "Aqui objetivo é fazer o QKD com EVE e analisar se dado n (número de dados) e o sample(amostras) colhidas no final, qual a probabilidade de EVE fazer a medição sem ser descoberta"
   ]
  },
  {
   "cell_type": "code",
   "execution_count": 8,
   "id": "31e64e11",
   "metadata": {},
   "outputs": [],
   "source": [
    "def encode_message(bits, bases):\n",
    "    message = []\n",
    "    for i in range(n):\n",
    "        qc = QuantumCircuit(1,1)\n",
    "        if bases[i] == 0: # Prepare qubit in Z-basis\n",
    "            if bits[i] == 0:\n",
    "                pass \n",
    "            else:\n",
    "                qc.x(0)\n",
    "        else: # Prepare qubit in X-basis\n",
    "            if bits[i] == 0:\n",
    "                qc.h(0)\n",
    "            else:\n",
    "                qc.x(0)\n",
    "                qc.h(0)\n",
    "        qc.barrier()\n",
    "        message.append(qc)\n",
    "    return message"
   ]
  },
  {
   "cell_type": "code",
   "execution_count": 9,
   "id": "87d80063",
   "metadata": {},
   "outputs": [],
   "source": [
    "def measure_message(message, bases):\n",
    "    backend = Aer.get_backend('aer_simulator')\n",
    "    measurements = []\n",
    "    for q in range(n):\n",
    "        if bases[q] == 0: # measuring in Z-basis\n",
    "            message[q].measure(0,0)\n",
    "        if bases[q] == 1: # measuring in X-basis\n",
    "            message[q].h(0)\n",
    "            message[q].measure(0,0)\n",
    "        aer_sim = Aer.get_backend('aer_simulator')\n",
    "        qobj = assemble(message[q], shots=1, memory=True)\n",
    "        result = aer_sim.run(qobj).result()\n",
    "        measured_bit = int(result.get_memory()[0])\n",
    "        measurements.append(measured_bit)\n",
    "    return measurements"
   ]
  },
  {
   "cell_type": "code",
   "execution_count": 10,
   "id": "b7f8f355",
   "metadata": {},
   "outputs": [],
   "source": [
    "def remove_garbage(a_bases, b_bases, bits):\n",
    "    good_bits = []\n",
    "    for q in range(n):\n",
    "        if a_bases[q] == b_bases[q]:\n",
    "            # If both used the same basis, add\n",
    "            # this to the list of 'good' bits\n",
    "            good_bits.append(bits[q])\n",
    "    return good_bits"
   ]
  },
  {
   "cell_type": "code",
   "execution_count": 11,
   "id": "c82f9acc",
   "metadata": {},
   "outputs": [],
   "source": [
    "def sample_bits(bits, selection):\n",
    "    sample = []\n",
    "    for i in selection:\n",
    "        # use np.mod to make sure the\n",
    "        # bit we sample is always in \n",
    "        # the list range\n",
    "        i = np.mod(i, len(bits))\n",
    "        # pop(i) removes the element of the\n",
    "        # list at index 'i'\n",
    "        sample.append(bits.pop(i))\n",
    "    return sample"
   ]
  },
  {
   "cell_type": "raw",
   "id": "427ceadc",
   "metadata": {},
   "source": [
    "Aqui em baixo, mudar o \"n\" e o sample size. Ex n=100 e sample >5 vai sempre detectar"
   ]
  },
  {
   "cell_type": "code",
   "execution_count": 12,
   "id": "71efa1ca",
   "metadata": {},
   "outputs": [
    {
     "name": "stdout",
     "output_type": "stream",
     "text": [
      "Eve went undetected!\n"
     ]
    }
   ],
   "source": [
    "n = 1000\n",
    "# Step 1\n",
    "alice_bits = randint(1, size=n)\n",
    "alice_bases = randint(2, size=n)\n",
    "# Step 2\n",
    "message = encode_message(alice_bits, alice_bases)\n",
    "# Interception!\n",
    "eve_bases = randint(1, size=n)\n",
    "intercepted_message = measure_message(message, eve_bases)\n",
    "# Step 3\n",
    "bob_bases = randint(2, size=n)\n",
    "bob_results = measure_message(message, bob_bases)\n",
    "# Step 4\n",
    "bob_key = remove_garbage(alice_bases, bob_bases, bob_results)\n",
    "alice_key = remove_garbage(alice_bases, bob_bases, alice_bits)\n",
    "# Step 5\n",
    "sample_size = 2 # Change this to something lower and see if \n",
    "                 # Eve can intercept the message without Alice\n",
    "                 # and Bob finding out\n",
    "bit_selection = randint(n, size=sample_size)\n",
    "bob_sample = sample_bits(bob_key, bit_selection)\n",
    "alice_sample = sample_bits(alice_key, bit_selection)\n",
    "\n",
    "if bob_sample != alice_sample:\n",
    "    print(\"Eve's interference was detected.\")\n",
    "else:\n",
    "    print(\"Eve went undetected!\")"
   ]
  },
  {
   "cell_type": "code",
   "execution_count": null,
   "id": "36d280a1",
   "metadata": {},
   "outputs": [],
   "source": []
  }
 ],
 "metadata": {
  "kernelspec": {
   "display_name": "Python 3 (ipykernel)",
   "language": "python",
   "name": "python3"
  },
  "language_info": {
   "codemirror_mode": {
    "name": "ipython",
    "version": 3
   },
   "file_extension": ".py",
   "mimetype": "text/x-python",
   "name": "python",
   "nbconvert_exporter": "python",
   "pygments_lexer": "ipython3",
   "version": "3.9.7"
  }
 },
 "nbformat": 4,
 "nbformat_minor": 5
}
